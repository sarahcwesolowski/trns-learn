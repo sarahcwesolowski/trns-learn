{
 "cells": [
  {
   "cell_type": "markdown",
   "id": "55d53ff9",
   "metadata": {},
   "source": [
    "# Testing methods of Mishra et al. 2022\n",
    "\n",
    "[link to paper](http://journals.sagepub.com/doi/10.1177/0272989X211044697)\n",
    "\n",
    "I will use the Behavioral Risk Factor Surveillance System data set from the CDC. I have 5 datasets from 2011-2015 available on Kaggle.  I will probably start by dividing by race or gender unevenly in the train and recalibration sets and go from there."
   ]
  },
  {
   "cell_type": "code",
   "execution_count": null,
   "id": "2aebed9d",
   "metadata": {},
   "outputs": [],
   "source": []
  }
 ],
 "metadata": {
  "kernelspec": {
   "display_name": "trns-learn",
   "language": "python",
   "name": "trns-learn"
  },
  "language_info": {
   "codemirror_mode": {
    "name": "ipython",
    "version": 3
   },
   "file_extension": ".py",
   "mimetype": "text/x-python",
   "name": "python",
   "nbconvert_exporter": "python",
   "pygments_lexer": "ipython3",
   "version": "3.11.0"
  }
 },
 "nbformat": 4,
 "nbformat_minor": 5
}
