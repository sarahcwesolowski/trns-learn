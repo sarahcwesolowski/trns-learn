{
 "cells": [
  {
   "cell_type": "markdown",
   "id": "55d53ff9",
   "metadata": {},
   "source": []
  },
  {
   "cell_type": "code",
   "execution_count": 1,
   "id": "ce81d03d",
   "metadata": {},
   "outputs": [],
   "source": [
    "%load_ext autoreload\n",
    "%autoreload 2"
   ]
  },
  {
   "cell_type": "code",
   "execution_count": 2,
   "id": "2aebed9d",
   "metadata": {},
   "outputs": [],
   "source": [
    "import numpy as np\n",
    "import pandas as pd\n",
    "import matplotlib.pyplot as plt\n",
    "import sklearn"
   ]
  },
  {
   "cell_type": "code",
   "execution_count": 3,
   "id": "aa7af79d",
   "metadata": {},
   "outputs": [],
   "source": [
    "from sklearn.datasets import load_breast_cancer\n",
    "from sklearn.linear_model import LogisticRegression\n",
    "from sklearn.model_selection import GridSearchCV"
   ]
  },
  {
   "cell_type": "markdown",
   "id": "913ae653",
   "metadata": {},
   "source": [
    "## Read and process the data set\n",
    "\n",
    "To avoid duplicating the available data, you must download the data yourself and place it in the correct directory. Find the data at [this link](https://archive.ics.uci.edu/ml/datasets/Diabetes+130-US+hospitals+for+years+1999-2008)."
   ]
  },
  {
   "cell_type": "code",
   "execution_count": 4,
   "id": "784eb26f",
   "metadata": {},
   "outputs": [],
   "source": [
    "bc_data = load_breast_cancer()"
   ]
  },
  {
   "cell_type": "code",
   "execution_count": 5,
   "id": "e6972210",
   "metadata": {},
   "outputs": [
    {
     "name": "stdout",
     "output_type": "stream",
     "text": [
      ".. _breast_cancer_dataset:\n",
      "\n",
      "Breast cancer wisconsin (diagnostic) dataset\n",
      "--------------------------------------------\n",
      "\n",
      "**Data Set Characteristics:**\n",
      "\n",
      "    :Number of Instances: 569\n",
      "\n",
      "    :Number of Attributes: 30 numeric, predictive attributes and the class\n",
      "\n",
      "    :Attribute Information:\n",
      "        - radius (mean of distances from center to points on the perimeter)\n",
      "        - texture (standard deviation of gray-scale values)\n",
      "        - perimeter\n",
      "        - area\n",
      "        - smoothness (local variation in radius lengths)\n",
      "        - compactness (perimeter^2 / area - 1.0)\n",
      "        - concavity (severity of concave portions of the contour)\n",
      "        - concave points (number of concave portions of the contour)\n",
      "        - symmetry\n",
      "        - fractal dimension (\"coastline approximation\" - 1)\n",
      "\n",
      "        The mean, standard error, and \"worst\" or largest (mean of the three\n",
      "        worst/largest values) of these features were computed for each image,\n",
      "        resulting in 30 features.  For instance, field 0 is Mean Radius, field\n",
      "        10 is Radius SE, field 20 is Worst Radius.\n",
      "\n",
      "        - class:\n",
      "                - WDBC-Malignant\n",
      "                - WDBC-Benign\n",
      "\n",
      "    :Summary Statistics:\n",
      "\n",
      "    ===================================== ====== ======\n",
      "                                           Min    Max\n",
      "    ===================================== ====== ======\n",
      "    radius (mean):                        6.981  28.11\n",
      "    texture (mean):                       9.71   39.28\n",
      "    perimeter (mean):                     43.79  188.5\n",
      "    area (mean):                          143.5  2501.0\n",
      "    smoothness (mean):                    0.053  0.163\n",
      "    compactness (mean):                   0.019  0.345\n",
      "    concavity (mean):                     0.0    0.427\n",
      "    concave points (mean):                0.0    0.201\n",
      "    symmetry (mean):                      0.106  0.304\n",
      "    fractal dimension (mean):             0.05   0.097\n",
      "    radius (standard error):              0.112  2.873\n",
      "    texture (standard error):             0.36   4.885\n",
      "    perimeter (standard error):           0.757  21.98\n",
      "    area (standard error):                6.802  542.2\n",
      "    smoothness (standard error):          0.002  0.031\n",
      "    compactness (standard error):         0.002  0.135\n",
      "    concavity (standard error):           0.0    0.396\n",
      "    concave points (standard error):      0.0    0.053\n",
      "    symmetry (standard error):            0.008  0.079\n",
      "    fractal dimension (standard error):   0.001  0.03\n",
      "    radius (worst):                       7.93   36.04\n",
      "    texture (worst):                      12.02  49.54\n",
      "    perimeter (worst):                    50.41  251.2\n",
      "    area (worst):                         185.2  4254.0\n",
      "    smoothness (worst):                   0.071  0.223\n",
      "    compactness (worst):                  0.027  1.058\n",
      "    concavity (worst):                    0.0    1.252\n",
      "    concave points (worst):               0.0    0.291\n",
      "    symmetry (worst):                     0.156  0.664\n",
      "    fractal dimension (worst):            0.055  0.208\n",
      "    ===================================== ====== ======\n",
      "\n",
      "    :Missing Attribute Values: None\n",
      "\n",
      "    :Class Distribution: 212 - Malignant, 357 - Benign\n",
      "\n",
      "    :Creator:  Dr. William H. Wolberg, W. Nick Street, Olvi L. Mangasarian\n",
      "\n",
      "    :Donor: Nick Street\n",
      "\n",
      "    :Date: November, 1995\n",
      "\n",
      "This is a copy of UCI ML Breast Cancer Wisconsin (Diagnostic) datasets.\n",
      "https://goo.gl/U2Uwz2\n",
      "\n",
      "Features are computed from a digitized image of a fine needle\n",
      "aspirate (FNA) of a breast mass.  They describe\n",
      "characteristics of the cell nuclei present in the image.\n",
      "\n",
      "Separating plane described above was obtained using\n",
      "Multisurface Method-Tree (MSM-T) [K. P. Bennett, \"Decision Tree\n",
      "Construction Via Linear Programming.\" Proceedings of the 4th\n",
      "Midwest Artificial Intelligence and Cognitive Science Society,\n",
      "pp. 97-101, 1992], a classification method which uses linear\n",
      "programming to construct a decision tree.  Relevant features\n",
      "were selected using an exhaustive search in the space of 1-4\n",
      "features and 1-3 separating planes.\n",
      "\n",
      "The actual linear program used to obtain the separating plane\n",
      "in the 3-dimensional space is that described in:\n",
      "[K. P. Bennett and O. L. Mangasarian: \"Robust Linear\n",
      "Programming Discrimination of Two Linearly Inseparable Sets\",\n",
      "Optimization Methods and Software 1, 1992, 23-34].\n",
      "\n",
      "This database is also available through the UW CS ftp server:\n",
      "\n",
      "ftp ftp.cs.wisc.edu\n",
      "cd math-prog/cpo-dataset/machine-learn/WDBC/\n",
      "\n",
      ".. topic:: References\n",
      "\n",
      "   - W.N. Street, W.H. Wolberg and O.L. Mangasarian. Nuclear feature extraction \n",
      "     for breast tumor diagnosis. IS&T/SPIE 1993 International Symposium on \n",
      "     Electronic Imaging: Science and Technology, volume 1905, pages 861-870,\n",
      "     San Jose, CA, 1993.\n",
      "   - O.L. Mangasarian, W.N. Street and W.H. Wolberg. Breast cancer diagnosis and \n",
      "     prognosis via linear programming. Operations Research, 43(4), pages 570-577, \n",
      "     July-August 1995.\n",
      "   - W.H. Wolberg, W.N. Street, and O.L. Mangasarian. Machine learning techniques\n",
      "     to diagnose breast cancer from fine-needle aspirates. Cancer Letters 77 (1994) \n",
      "     163-171.\n"
     ]
    }
   ],
   "source": [
    "print(bc_data['DESCR'])"
   ]
  },
  {
   "cell_type": "code",
   "execution_count": 6,
   "id": "3b5693a2",
   "metadata": {},
   "outputs": [],
   "source": [
    "features = pd.DataFrame(data=bc_data.data, \n",
    "                  columns=bc_data.feature_names)"
   ]
  },
  {
   "cell_type": "code",
   "execution_count": 7,
   "id": "425ffa3f",
   "metadata": {},
   "outputs": [],
   "source": [
    "features_std = pd.DataFrame()"
   ]
  },
  {
   "cell_type": "markdown",
   "id": "138ae899",
   "metadata": {},
   "source": [
    "Scale the features to prepare for analysis"
   ]
  },
  {
   "cell_type": "code",
   "execution_count": 8,
   "id": "57ae2b1b",
   "metadata": {},
   "outputs": [],
   "source": [
    "from sklearn.preprocessing import StandardScaler"
   ]
  },
  {
   "cell_type": "code",
   "execution_count": 9,
   "id": "94431f46",
   "metadata": {},
   "outputs": [],
   "source": [
    "scaler = StandardScaler()"
   ]
  },
  {
   "cell_type": "code",
   "execution_count": 10,
   "id": "39d47a9a",
   "metadata": {},
   "outputs": [],
   "source": [
    "features_std = pd.DataFrame(data=scaler.fit_transform(features),\\\n",
    "                            columns=features.columns)"
   ]
  },
  {
   "cell_type": "code",
   "execution_count": 11,
   "id": "b3bf47c1",
   "metadata": {},
   "outputs": [],
   "source": [
    "labels = pd.DataFrame(data=bc_data['target'], columns=['target'])"
   ]
  },
  {
   "cell_type": "code",
   "execution_count": 12,
   "id": "8179ac7e",
   "metadata": {},
   "outputs": [
    {
     "data": {
      "text/plain": [
       "target\n",
       "1         357\n",
       "0         212\n",
       "dtype: int64"
      ]
     },
     "execution_count": 12,
     "metadata": {},
     "output_type": "execute_result"
    }
   ],
   "source": [
    "labels.value_counts()"
   ]
  },
  {
   "cell_type": "markdown",
   "id": "253a6664",
   "metadata": {},
   "source": [
    "The labels indicate whether the case is malignant (0) or benign (1). "
   ]
  },
  {
   "cell_type": "code",
   "execution_count": 13,
   "id": "665e4495",
   "metadata": {},
   "outputs": [],
   "source": [
    "old_malignant = features[labels['target'] == 0].index\n",
    "old_benign = features[labels['target'] == 1].index"
   ]
  },
  {
   "cell_type": "markdown",
   "id": "79d9de85",
   "metadata": {},
   "source": [
    "I don't like this labeling scheme so I'm going to flip the labels so benign is 0 and malignant is 1."
   ]
  },
  {
   "cell_type": "code",
   "execution_count": 14,
   "id": "0ddfe717",
   "metadata": {},
   "outputs": [],
   "source": [
    "labels.iloc[old_malignant] = 1\n",
    "labels.iloc[old_benign] = 0"
   ]
  },
  {
   "cell_type": "code",
   "execution_count": 15,
   "id": "459cb9eb",
   "metadata": {},
   "outputs": [
    {
     "data": {
      "text/plain": [
       "target\n",
       "0         357\n",
       "1         212\n",
       "dtype: int64"
      ]
     },
     "execution_count": 15,
     "metadata": {},
     "output_type": "execute_result"
    }
   ],
   "source": [
    "labels.value_counts()"
   ]
  },
  {
   "cell_type": "code",
   "execution_count": 16,
   "id": "33789494",
   "metadata": {},
   "outputs": [],
   "source": [
    "from sklearn.model_selection import train_test_split"
   ]
  },
  {
   "cell_type": "code",
   "execution_count": 17,
   "id": "416d02bc",
   "metadata": {},
   "outputs": [],
   "source": [
    "x_train, x_test, y_train, y_test = train_test_split(\\\n",
    "                        features_std, labels, test_size=0.25,\\\n",
    "                                         random_state=42)"
   ]
  },
  {
   "cell_type": "markdown",
   "id": "b6a32e0e",
   "metadata": {},
   "source": [
    "## Create artificial test sets with discrimination and calibration problems\n",
    "\n",
    "Rather than randomly splitting the data set, I will split using an artificial criterion to create some difference between the training set patient population and the target set, because this toy dataset is a relatively easy classification problem. I intentionally want a performance drop (still need to define that quantitatively) in the held-out data here, so that I can \"fix\" it using different strategies."
   ]
  },
  {
   "cell_type": "markdown",
   "id": "10db8603",
   "metadata": {},
   "source": [
    "### Fit a L1-regularized logistic regression model to the training data as-is"
   ]
  },
  {
   "cell_type": "code",
   "execution_count": 18,
   "id": "d01b4918",
   "metadata": {},
   "outputs": [],
   "source": [
    "sagaseed = 12 # seed for optimization"
   ]
  },
  {
   "cell_type": "code",
   "execution_count": 19,
   "id": "bf801a72",
   "metadata": {},
   "outputs": [],
   "source": [
    "clf_gs = LogisticRegression(penalty='l1', tol=1e-4, C=1, fit_intercept=True,\\\n",
    "                                       random_state=sagaseed, solver='saga', max_iter=int(1e6));"
   ]
  },
  {
   "cell_type": "code",
   "execution_count": 20,
   "id": "04e35a6e",
   "metadata": {},
   "outputs": [],
   "source": [
    "from sklearn.metrics import average_precision_score\n",
    "from sklearn.model_selection import StratifiedKFold"
   ]
  },
  {
   "cell_type": "code",
   "execution_count": 21,
   "id": "57da540d",
   "metadata": {},
   "outputs": [],
   "source": [
    "param_grid = {'C' : [1e-2,1e-1,1e0,1e1,1e2]}"
   ]
  },
  {
   "cell_type": "code",
   "execution_count": 22,
   "id": "9b574210",
   "metadata": {},
   "outputs": [],
   "source": [
    "skf = StratifiedKFold(n_splits=5,shuffle=True,random_state=sagaseed+1)"
   ]
  },
  {
   "cell_type": "code",
   "execution_count": 23,
   "id": "272c50bb",
   "metadata": {},
   "outputs": [],
   "source": [
    "gridsearch = GridSearchCV(clf_gs, param_grid, scoring='average_precision',\\\n",
    "                          cv=skf)"
   ]
  },
  {
   "cell_type": "code",
   "execution_count": 24,
   "id": "c1742dfc",
   "metadata": {},
   "outputs": [],
   "source": [
    "gridsearch.fit(x_train, y_train.to_numpy().ravel());"
   ]
  },
  {
   "cell_type": "code",
   "execution_count": 25,
   "id": "9d001c24",
   "metadata": {},
   "outputs": [
    {
     "data": {
      "text/plain": [
       "{'C': 1.0}"
      ]
     },
     "execution_count": 25,
     "metadata": {},
     "output_type": "execute_result"
    }
   ],
   "source": [
    "gridsearch.best_params_"
   ]
  },
  {
   "cell_type": "code",
   "execution_count": 26,
   "id": "1fa9e0ca",
   "metadata": {},
   "outputs": [],
   "source": [
    "clf = gridsearch.best_estimator_.fit(x_train, y_train.to_numpy().ravel()); # the numpy/ravel stuff shuts up a warning"
   ]
  },
  {
   "cell_type": "markdown",
   "id": "bdf5780f",
   "metadata": {},
   "source": [
    "Predict logit probabilities for the train and test set"
   ]
  },
  {
   "cell_type": "code",
   "execution_count": 34,
   "id": "79b412de",
   "metadata": {},
   "outputs": [],
   "source": [
    "y_train_proba = clf.predict_proba(x_train)[:,1]"
   ]
  },
  {
   "cell_type": "code",
   "execution_count": 35,
   "id": "73ff2b66",
   "metadata": {},
   "outputs": [],
   "source": [
    "y_test_proba = clf.predict_proba(x_test)[:,1]"
   ]
  },
  {
   "cell_type": "markdown",
   "id": "4ac5a7d1",
   "metadata": {},
   "source": [
    "## Making synthetic test data"
   ]
  },
  {
   "cell_type": "markdown",
   "id": "d746967e",
   "metadata": {},
   "source": [
    "Start by drawing samples from the train data with replacement. I want a data set that is closely related to the training set from which to create the synthetic data. I don't want a truly different test set, because I want to create synthetic test data with specific problems that can and can't be fixed with model recalibration.\n",
    "\n",
    "The original logistic regression model is\n",
    "\n",
    "$$ P(Y=1|\\mathbf{x}) = \\frac{1}{1+e^{-\\beta_0 + \\vec{\\beta}\\cdot\\mathbf{x}}} $$\n",
    "\n",
    "Let the risk score $z = \\beta_0 + \\vec{\\beta_0}\\cdot\\mathbf{x}$"
   ]
  },
  {
   "cell_type": "markdown",
   "id": "b7a5a454",
   "metadata": {},
   "source": [
    "### Pull a synthetic test set from the train data"
   ]
  },
  {
   "cell_type": "code",
   "execution_count": 36,
   "id": "52f81b49",
   "metadata": {},
   "outputs": [],
   "source": [
    "n_test_syn = len(x_test)\n",
    "seed_syn = 222"
   ]
  },
  {
   "cell_type": "code",
   "execution_count": 37,
   "id": "8dd68e9a",
   "metadata": {},
   "outputs": [],
   "source": [
    "x_test_syn = x_train.sample(n=n_test_syn, random_state=seed_syn, replace=True)\n",
    "y_test_syn = y_train.loc[x_test_syn.index]"
   ]
  },
  {
   "cell_type": "code",
   "execution_count": 38,
   "id": "6159dae8",
   "metadata": {},
   "outputs": [],
   "source": [
    "y_test_syn_proba = clf.predict_proba(x_test_syn)[:,1]"
   ]
  },
  {
   "cell_type": "code",
   "execution_count": 39,
   "id": "866b90c4",
   "metadata": {},
   "outputs": [],
   "source": [
    "from sklearn.calibration import calibration_curve"
   ]
  },
  {
   "cell_type": "code",
   "execution_count": 40,
   "id": "ef63dad4",
   "metadata": {},
   "outputs": [],
   "source": [
    "xcal_test_syn, ycal_test_syn = calibration_curve(y_test_syn, y_test_syn_proba,n_bins=4)"
   ]
  },
  {
   "cell_type": "code",
   "execution_count": 41,
   "id": "6c7b7c26",
   "metadata": {},
   "outputs": [],
   "source": [
    "xcal_train, ycal_train = calibration_curve(y_train, y_train_proba,n_bins=5)"
   ]
  },
  {
   "cell_type": "code",
   "execution_count": 42,
   "id": "6060514d",
   "metadata": {
    "scrolled": true
   },
   "outputs": [
    {
     "data": {
      "image/png": "[encoded data removed]",
      "text/plain": [
       "<Figure size 640x480 with 1 Axes>"
      ]
     },
     "metadata": {},
     "output_type": "display_data"
    }
   ],
   "source": [
    "plt.plot(xcal_train, ycal_train,'o-', label='train')\n",
    "plt.plot(xcal_test_syn, ycal_test_syn,'^-', label='synthetic test')\n",
    "plt.xlim(0,1)\n",
    "plt.ylim(0,1)\n",
    "plt.plot([0,1],[0,1],'--',color='gray', label='perfect calibration')\n",
    "plt.title('Calibration on training set and synthetic test set')\n",
    "plt.xlabel('Mean predicted probability')\n",
    "plt.legend()\n",
    "plt.show();"
   ]
  },
  {
   "cell_type": "markdown",
   "id": "402fb5e3",
   "metadata": {},
   "source": [
    "### Compute the Brier Score (MSE) "
   ]
  },
  {
   "cell_type": "code",
   "execution_count": 43,
   "id": "d4431dfb",
   "metadata": {},
   "outputs": [],
   "source": [
    "from sklearn.metrics import brier_score_loss"
   ]
  },
  {
   "cell_type": "code",
   "execution_count": 44,
   "id": "ec210509",
   "metadata": {},
   "outputs": [
    {
     "name": "stdout",
     "output_type": "stream",
     "text": [
      "Training set Brier Score (MSE) = 0.013\n"
     ]
    }
   ],
   "source": [
    "print('Training set Brier Score (MSE) = {:.3f}'.format(\\\n",
    "                                brier_score_loss(y_train, y_train_proba)))"
   ]
  },
  {
   "cell_type": "code",
   "execution_count": 45,
   "id": "67c50d47",
   "metadata": {
    "scrolled": true
   },
   "outputs": [
    {
     "name": "stdout",
     "output_type": "stream",
     "text": [
      "Synthetic test set Brier Score (MSE) = 0.013\n"
     ]
    }
   ],
   "source": [
    "print('Synthetic test set Brier Score (MSE) = {:.3f}'.format(\\\n",
    "                                brier_score_loss(y_test_syn, y_test_syn_proba)))"
   ]
  },
  {
   "cell_type": "markdown",
   "id": "c693c182",
   "metadata": {},
   "source": [
    "They should certainly be close to one another, because the synthetic test is just redrawn from the train set here. Now let's mess with the synthetic test set to make data sets that the model is not well-calibrated on."
   ]
  },
  {
   "cell_type": "markdown",
   "id": "2cb5a3c7",
   "metadata": {},
   "source": [
    "### Synthetic test 1 (constant offset to risk score)"
   ]
  },
  {
   "cell_type": "markdown",
   "id": "02300cbd",
   "metadata": {},
   "source": [
    "What happens we adjust the probability by adding a constant offset $\\alpha_0$ to the original risk score to generate synthetic data?\n",
    "\n",
    "$$ P_1(Y=1|\\mathbf{x}) = \\frac{1}{1 + e^{-(\\alpha_0 + z)}} $$\n",
    "\n",
    "This will correspond to left and right translations of the probability vs. risk curve according to $\\alpha_0$."
   ]
  },
  {
   "cell_type": "code",
   "execution_count": 69,
   "id": "d43bf6dc",
   "metadata": {},
   "outputs": [],
   "source": [
    "alpha0 = 3"
   ]
  },
  {
   "cell_type": "markdown",
   "id": "9a4f8e9d",
   "metadata": {},
   "source": [
    "Predicted probabilities based on risk scores from logistic regression"
   ]
  },
  {
   "cell_type": "code",
   "execution_count": 70,
   "id": "353ef332",
   "metadata": {},
   "outputs": [],
   "source": [
    "risk_train = clf.intercept_ + x_train @ clf.coef_.T\n",
    "risk_test  = clf.intercept_ + x_test @ clf.coef_.T\n",
    "risk_test_syn = clf.intercept_ + x_test_syn @ clf.coef_.T"
   ]
  },
  {
   "cell_type": "code",
   "execution_count": 71,
   "id": "9a27b733",
   "metadata": {},
   "outputs": [],
   "source": [
    "y_test_syn_proba_1 = 1./(1. + np.exp(-alpha0 - risk_test_syn))"
   ]
  },
  {
   "cell_type": "code",
   "execution_count": 72,
   "id": "92def727",
   "metadata": {},
   "outputs": [
    {
     "data": {
      "image/png": "[encoded data removed]",
      "text/plain": [
       "<Figure size 640x480 with 1 Axes>"
      ]
     },
     "metadata": {},
     "output_type": "display_data"
    }
   ],
   "source": [
    "plt.plot(risk_test_syn, y_test_syn_proba, 'o')\n",
    "plt.plot(risk_test_syn, y_test_syn_proba_1, 'o')\n",
    "plt.xlabel(r'Risk score $\\beta_0 + \\vec{\\beta} \\cdot \\mathbf{x}$')\n",
    "plt.ylabel(r'$P(Y=1|\\mathbf{x})$')\n",
    "plt.title('Probability vs. risk score for constant offset')\n",
    "plt.ylim(0,1);"
   ]
  },
  {
   "cell_type": "markdown",
   "id": "10a69adf",
   "metadata": {},
   "source": [
    "Generate new labels for the synthetic test dataset and the offset one based on the risk score"
   ]
  },
  {
   "cell_type": "code",
   "execution_count": 73,
   "id": "cb2ef572",
   "metadata": {},
   "outputs": [],
   "source": [
    "y_test_syn = (y_test_syn > 0.5)"
   ]
  },
  {
   "cell_type": "code",
   "execution_count": 74,
   "id": "535bdc5d",
   "metadata": {},
   "outputs": [],
   "source": [
    "y_test_syn_1 = (y_test_syn_proba_1 > 0.5)"
   ]
  },
  {
   "cell_type": "code",
   "execution_count": 75,
   "id": "21cda547",
   "metadata": {},
   "outputs": [
    {
     "name": "stdout",
     "output_type": "stream",
     "text": [
      "Prevalence in original synthetic test set = 0.32\n",
      "Prevalence in synthetic test set 1 = 0.47\n"
     ]
    }
   ],
   "source": [
    "print('Prevalence in original synthetic test set = {:.2f}'.format(int(np.sum(y_test_syn))/len(y_test_syn)))\n",
    "print('Prevalence in synthetic test set 1 = {:.2f}'.format(int(np.sum(y_test_syn_1))/len(y_test_syn_1)))"
   ]
  },
  {
   "cell_type": "markdown",
   "id": "d6092d0d",
   "metadata": {},
   "source": [
    "As expected, the offset changes the prevalence. But overall discrimination should be unchanged, as this doesn't reorder the probabilistic predictions in any way."
   ]
  },
  {
   "cell_type": "code",
   "execution_count": 88,
   "id": "e743d8d3",
   "metadata": {},
   "outputs": [
    {
     "name": "stdout",
     "output_type": "stream",
     "text": [
      "Synthetic test set 1 Brier Score (MSE) = 0.115\n"
     ]
    }
   ],
   "source": [
    "print('Synthetic test set 1 Brier Score (MSE) = {:.3f}'.format(\\\n",
    "                                brier_score_loss(y_test_syn_1, y_test_syn_proba)))"
   ]
  },
  {
   "cell_type": "markdown",
   "id": "81f360a7",
   "metadata": {},
   "source": [
    "The MSE has now degraded because I messed up the calibration. Let's see if recalibration can fix this problem now."
   ]
  },
  {
   "cell_type": "markdown",
   "id": "0cc13e4a",
   "metadata": {},
   "source": [
    "### Adding multiplicative factor to $\\vec{\\beta}$"
   ]
  },
  {
   "cell_type": "markdown",
   "id": "a857ec11",
   "metadata": {},
   "source": [
    "What happens we adjust the probability by adding a multiplicative factor $\\alpha_1 > 0$ to the original risk score to generate synthetic data?\n",
    "\n",
    "$$ P_1(Y=1|\\mathbf{x}) = \\frac{1}{1 + e^{-(\\alpha_0 + \\alpha_1 z)}} $$\n",
    "\n",
    "This will correspond to making the probability curve more or less steep (more or less sharp transition)"
   ]
  },
  {
   "cell_type": "code",
   "execution_count": 195,
   "id": "02c3f6f1",
   "metadata": {},
   "outputs": [],
   "source": [
    "alpha1 = 0.8"
   ]
  },
  {
   "cell_type": "code",
   "execution_count": 196,
   "id": "bb83526f",
   "metadata": {},
   "outputs": [],
   "source": [
    "y_test_syn_proba_2 = 1./(1. + np.exp(-alpha0-alpha1*risk_test_syn))"
   ]
  },
  {
   "cell_type": "code",
   "execution_count": 197,
   "id": "4109d92d",
   "metadata": {
    "scrolled": true
   },
   "outputs": [
    {
     "data": {
      "image/png": "[encoded data removed]",
      "text/plain": [
       "<Figure size 640x480 with 1 Axes>"
      ]
     },
     "metadata": {},
     "output_type": "display_data"
    }
   ],
   "source": [
    "plt.plot(risk_test, y_test_proba, 'o')\n",
    "#plt.plot(risk_test, y_test_syn_1, 'o')\n",
    "plt.plot(risk_test_syn, y_test_syn_proba_2, 'o')\n",
    "plt.xlabel(r'Risk score $\\beta_0 + \\vec{\\beta} \\cdot \\mathbf{x}$')\n",
    "plt.ylabel(r'$P(Y=1|\\mathbf{x})$')\n",
    "plt.title('Probability vs. risk score')\n",
    "plt.ylim(0,1);"
   ]
  },
  {
   "cell_type": "code",
   "execution_count": 198,
   "id": "6a9b4762",
   "metadata": {},
   "outputs": [],
   "source": [
    "y_test_syn_2 = (y_test_syn_proba_2 > 0.5)"
   ]
  },
  {
   "cell_type": "code",
   "execution_count": 199,
   "id": "a58c8380",
   "metadata": {},
   "outputs": [
    {
     "name": "stdout",
     "output_type": "stream",
     "text": [
      "Prevalence in original synthetic test set = 0.32\n",
      "Prevalence in synthetic test set 2 = 0.50\n"
     ]
    }
   ],
   "source": [
    "print('Prevalence in original synthetic test set = {:.2f}'.format(int(np.sum(y_test_syn))/len(y_test_syn)))\n",
    "print('Prevalence in synthetic test set 2 = {:.2f}'.format(int(np.sum(y_test_syn_2))/len(y_test_syn_2)))"
   ]
  },
  {
   "cell_type": "code",
   "execution_count": 200,
   "id": "2b95d3ae",
   "metadata": {},
   "outputs": [
    {
     "name": "stdout",
     "output_type": "stream",
     "text": [
      "Synthetic test set 2 Brier Score (MSE) = 0.147\n"
     ]
    }
   ],
   "source": [
    "print('Synthetic test set 2 Brier Score (MSE) = {:.3f}'.format(\\\n",
    "                                brier_score_loss(y_test_syn_2, y_test_syn_proba)))"
   ]
  },
  {
   "cell_type": "markdown",
   "id": "30fd8bd6",
   "metadata": {},
   "source": [
    "As expected, this perturbation of the probabilities also degrades the calibration. Now we have two synthetic test sets, with Brier scores of\n",
    "\n",
    "- **Synthetic test set 0**: MSE = 0.013 (RMSE = 0.114)\n",
    "- **Synthetic test set 1 (constant offset)**: MSE = 0.115 (RMSE=0.339)\n",
    "- **Synthetic test set 2 (scaled offset)**: MSE = 0.147 (RMSE=0.383)"
   ]
  },
  {
   "cell_type": "markdown",
   "id": "35e8a4e8",
   "metadata": {},
   "source": [
    "## Recalibration tests in synthetic data sets\n",
    "\n",
    "Now let's use the two synthetic data sets with different mis-calibration issues to test and then recalibrate if needed. For simplicity right now, I'm going to use the Brier score as the only metric for assessing the data set calibration."
   ]
  },
  {
   "cell_type": "markdown",
   "id": "a19bc540",
   "metadata": {},
   "source": [
    "Start by sampling possible data from the test synthetic data set and checking the calibration"
   ]
  },
  {
   "cell_type": "markdown",
   "id": "5eb76096",
   "metadata": {},
   "source": [
    "### Test 1: constant offset"
   ]
  },
  {
   "cell_type": "code",
   "execution_count": 201,
   "id": "2f95ca6b",
   "metadata": {},
   "outputs": [
    {
     "name": "stdout",
     "output_type": "stream",
     "text": [
      "Drawing 10 samples\n",
      "Brier score = 0.063\n",
      "alpha_0 = 2.199, alpha_1 = 1.057\n",
      "> New Brier score = 0.026\n",
      "\n",
      "Drawing 20 samples\n",
      "Brier score = 0.033\n",
      "alpha_0 = 2.404, alpha_1 = 1.144\n",
      "> New Brier score = 0.013\n",
      "\n"
     ]
    }
   ],
   "source": [
    "new_bs = 1. # initialize the Brier score\n",
    "n_sample_add = 10 # number of samples to add on each step\n",
    "brier_score_eps = 0.005 # MSE can be higher than brier_score_cal by this amount\n",
    "brier_score_cal = 0.013\n",
    "all_idx = y_test_syn.index.to_list()\n",
    "sample_idx = [] # array of sample indices \n",
    "\n",
    "while (new_bs > brier_score_cal + brier_score_eps)\\\n",
    "  and len(sample_idx) < len(y_test_syn_1) - n_sample_add:\n",
    "    # obtain the new samples\n",
    "    np.random.seed(2727)\n",
    "    idx_new = np.random.choice(all_idx, size=n_sample_add, replace=False)\n",
    "    for i in idx_new:\n",
    "        all_idx.remove(i)\n",
    "    sample_idx += list(idx_new)\n",
    "    print('Drawing {} samples'.format(len(sample_idx)))\n",
    "    y_test_these = y_test_syn_1.loc[sample_idx]\n",
    "    x_test_these = x_test_syn.loc[sample_idx]\n",
    "    \n",
    "    # calculate probability for these samples from current model\n",
    "    y_test_these_proba = clf.predict_proba(x_test_these)[:,1]\n",
    "\n",
    "    # test brier score calibration\n",
    "    bs = brier_score_loss(y_test_these, y_test_these_proba)\n",
    "    print('Brier score = {:.3f}'.format(bs))\n",
    "    \n",
    "    if bs > (brier_score_cal + brier_score_eps):\n",
    "        # recalibrate and try again\n",
    "        clf_recal = LogisticRegression()\n",
    "        risk_scores_these = clf.intercept_ + x_test_these @ clf.coef_.T\n",
    "        clf_recal.fit(risk_scores_these, y_test_these.to_numpy().ravel())\n",
    "        a0 = clf_recal.intercept_[0]\n",
    "        a1 = clf_recal.coef_[0][0]\n",
    "        print('alpha_0 = {:.3f}, alpha_1 = {:.3f}'.format(a0, a1))\n",
    "        new_proba = 1./(1. + np.exp(-a0 - a1*(risk_scores_these)))\n",
    "        new_bs = brier_score_loss(y_test_these, new_proba)\n",
    "        print('> New Brier score = {:.3f}\\n'.format(new_bs))"
   ]
  },
  {
   "cell_type": "markdown",
   "id": "f7e2804e",
   "metadata": {},
   "source": [
    "For the offset data set, we end up with\n",
    "\n",
    "$$ \\text{new log odds} = 2.404 + 1.144 (\\text{log odds})$$\n",
    "\n",
    "After drawing 20 new samples from the synthetic data set. The true model used to generated the synthetic data was\n",
    "\n",
    "$$ \\text{new log odds} = 3 + 1.0 (\\text{log odds})$$"
   ]
  },
  {
   "cell_type": "markdown",
   "id": "78e09fe1",
   "metadata": {},
   "source": [
    "### Test 2: multiplicative factor"
   ]
  },
  {
   "cell_type": "code",
   "execution_count": 203,
   "id": "d5ecb3fb",
   "metadata": {},
   "outputs": [
    {
     "name": "stdout",
     "output_type": "stream",
     "text": [
      "Drawing 10 samples\n",
      "Brier score = 0.141\n",
      "alpha_0 = 3.996, alpha_1 = 1.168\n",
      "> New Brier score = 0.005\n",
      "\n"
     ]
    }
   ],
   "source": [
    "new_bs = 1. # initialize the Brier score\n",
    "n_sample_add = 10 # number of samples to add on each step\n",
    "brier_score_eps = 0.001 # MSE can be higher than brier_score_cal by this amount\n",
    "brier_score_cal = 0.013\n",
    "all_idx = y_test_syn.index.to_list()\n",
    "sample_idx = [] # array of sample indices \n",
    "\n",
    "while (new_bs > brier_score_cal + brier_score_eps)\\\n",
    "  and len(sample_idx) < len(y_test_syn_2) - n_sample_add:\n",
    "    # obtain the new samples\n",
    "    np.random.seed(2728)\n",
    "    idx_new = np.random.choice(all_idx, size=n_sample_add, replace=False)\n",
    "    for i in idx_new:\n",
    "        all_idx.remove(i)\n",
    "    sample_idx += list(idx_new)\n",
    "    print('Drawing {} samples'.format(len(sample_idx)))\n",
    "    y_test_these = y_test_syn_2.loc[sample_idx]\n",
    "    x_test_these = x_test_syn.loc[sample_idx]\n",
    "    \n",
    "    # calculate probability for these samples from current model\n",
    "    y_test_these_proba = clf.predict_proba(x_test_these)[:,1]\n",
    "\n",
    "    # test brier score calibration\n",
    "    bs = brier_score_loss(y_test_these, y_test_these_proba)\n",
    "    print('Brier score = {:.3f}'.format(bs))\n",
    "    \n",
    "    if bs > (brier_score_cal + brier_score_eps):\n",
    "        # recalibrate and try again\n",
    "        clf_recal = LogisticRegression()\n",
    "        risk_scores_these = clf.intercept_ + x_test_these @ clf.coef_.T\n",
    "        clf_recal.fit(risk_scores_these, y_test_these.to_numpy().ravel())\n",
    "        a0 = clf_recal.intercept_[0]\n",
    "        a1 = clf_recal.coef_[0][0]\n",
    "        print('alpha_0 = {:.3f}, alpha_1 = {:.3f}'.format(a0, a1))\n",
    "        new_proba = 1./(1. + np.exp(-a0 - a1*(risk_scores_these)))\n",
    "        new_bs = brier_score_loss(y_test_these, new_proba)\n",
    "        print('> New Brier score = {:.3f}\\n'.format(new_bs))"
   ]
  },
  {
   "cell_type": "code",
   "execution_count": null,
   "id": "660c2716",
   "metadata": {},
   "outputs": [],
   "source": []
  }
 ],
 "metadata": {
  "kernelspec": {
   "display_name": "Python 3 (ipykernel)",
   "language": "python",
   "name": "python3"
  },
  "language_info": {
   "codemirror_mode": {
    "name": "ipython",
    "version": 3
   },
   "file_extension": ".py",
   "mimetype": "text/x-python",
   "name": "python",
   "nbconvert_exporter": "python",
   "pygments_lexer": "ipython3",
   "version": "3.9.16"
  }
 },
 "nbformat": 4,
 "nbformat_minor": 5
}
