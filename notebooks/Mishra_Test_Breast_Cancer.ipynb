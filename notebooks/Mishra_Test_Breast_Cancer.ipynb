{
 "cells": [
  {
   "cell_type": "markdown",
   "id": "55d53ff9",
   "metadata": {},
   "source": [
    "# Testing methods of Mishra et al. 2022\n",
    "\n",
    "[link to paper](http://journals.sagepub.com/doi/10.1177/0272989X211044697)\n",
    "\n",
    "**Note about dataset**\n",
    "\n",
    "Measure of clinical utility is the standardized net benefit.\n",
    "\n",
    "* $ R \\equiv $ the risk threshold for recommending an intervention.\n",
    "* $ \\pi $ is the prevalence of the outcome\n",
    "* $\\text{TPR}_R \\equiv$ the true positive rate when the model risk threshold is $R$. AKA the sensitivity or the hit rate.\n",
    "* $\\text{FPR}_R \\equiv$ the same for the false positive rate. AKA 1 - specificity or the probability of a false alarm.\n",
    "* The ratio $R/(1-R)$ represents the ratio of benefits and harms of recommending an intervention. In this case I would assume this means the benefits vs. harms of screening a patient.\n",
    "\n",
    "$$ \\text{sNB}_R = \\text{TPR}_R - \\frac{R}{1-R}\\frac{1-\\pi}{\\pi} \\text{FPR}_R$$\n",
    "\n",
    "The advantage of this measure of clinical utility is that its maximum is 1 when the TPR=1 and FPR=0. It is an \"opt-in\" formulation that assumes the default should be not treating or screening the patient. Other measures of clinical utility include the net benefit and relative utility.\n",
    "\n",
    "The behavior of the sNB is that as the risk becomes large, it penalizes a higher false positive rate. As the prevalence becomes higher, it penalizes false positives less. For the rare-disease case, we might expect that the risk is high of non-detection, but that the prevalence is somewhat low. So perhaps we want the threshold $R$ closer to 0 to indicate that the our threshold for screening is low."
   ]
  },
  {
   "cell_type": "code",
   "execution_count": 1,
   "id": "ce81d03d",
   "metadata": {},
   "outputs": [],
   "source": [
    "%load_ext autoreload\n",
    "%autoreload 2"
   ]
  },
  {
   "cell_type": "code",
   "execution_count": 2,
   "id": "2aebed9d",
   "metadata": {},
   "outputs": [],
   "source": [
    "import numpy as np\n",
    "import pandas as pd\n",
    "import matplotlib.pyplot as plt\n",
    "import sklearn"
   ]
  },
  {
   "cell_type": "code",
   "execution_count": 28,
   "id": "aa7af79d",
   "metadata": {},
   "outputs": [],
   "source": [
    "from sklearn.datasets import load_breast_cancer\n",
    "from sklearn.linear_model import LogisticRegression\n",
    "from sklearn.model_selection import GridSearchCV"
   ]
  },
  {
   "cell_type": "markdown",
   "id": "913ae653",
   "metadata": {},
   "source": [
    "## Read and process the data set\n",
    "\n",
    "To avoid duplicating the available data, you must download the data yourself and place it in the correct directory. Find the data at [this link](https://archive.ics.uci.edu/ml/datasets/Diabetes+130-US+hospitals+for+years+1999-2008)."
   ]
  },
  {
   "cell_type": "code",
   "execution_count": 4,
   "id": "784eb26f",
   "metadata": {},
   "outputs": [],
   "source": [
    "bc_data = load_breast_cancer()"
   ]
  },
  {
   "cell_type": "code",
   "execution_count": 5,
   "id": "e6972210",
   "metadata": {},
   "outputs": [
    {
     "name": "stdout",
     "output_type": "stream",
     "text": [
      ".. _breast_cancer_dataset:\n",
      "\n",
      "Breast cancer wisconsin (diagnostic) dataset\n",
      "--------------------------------------------\n",
      "\n",
      "**Data Set Characteristics:**\n",
      "\n",
      "    :Number of Instances: 569\n",
      "\n",
      "    :Number of Attributes: 30 numeric, predictive attributes and the class\n",
      "\n",
      "    :Attribute Information:\n",
      "        - radius (mean of distances from center to points on the perimeter)\n",
      "        - texture (standard deviation of gray-scale values)\n",
      "        - perimeter\n",
      "        - area\n",
      "        - smoothness (local variation in radius lengths)\n",
      "        - compactness (perimeter^2 / area - 1.0)\n",
      "        - concavity (severity of concave portions of the contour)\n",
      "        - concave points (number of concave portions of the contour)\n",
      "        - symmetry\n",
      "        - fractal dimension (\"coastline approximation\" - 1)\n",
      "\n",
      "        The mean, standard error, and \"worst\" or largest (mean of the three\n",
      "        worst/largest values) of these features were computed for each image,\n",
      "        resulting in 30 features.  For instance, field 0 is Mean Radius, field\n",
      "        10 is Radius SE, field 20 is Worst Radius.\n",
      "\n",
      "        - class:\n",
      "                - WDBC-Malignant\n",
      "                - WDBC-Benign\n",
      "\n",
      "    :Summary Statistics:\n",
      "\n",
      "    ===================================== ====== ======\n",
      "                                           Min    Max\n",
      "    ===================================== ====== ======\n",
      "    radius (mean):                        6.981  28.11\n",
      "    texture (mean):                       9.71   39.28\n",
      "    perimeter (mean):                     43.79  188.5\n",
      "    area (mean):                          143.5  2501.0\n",
      "    smoothness (mean):                    0.053  0.163\n",
      "    compactness (mean):                   0.019  0.345\n",
      "    concavity (mean):                     0.0    0.427\n",
      "    concave points (mean):                0.0    0.201\n",
      "    symmetry (mean):                      0.106  0.304\n",
      "    fractal dimension (mean):             0.05   0.097\n",
      "    radius (standard error):              0.112  2.873\n",
      "    texture (standard error):             0.36   4.885\n",
      "    perimeter (standard error):           0.757  21.98\n",
      "    area (standard error):                6.802  542.2\n",
      "    smoothness (standard error):          0.002  0.031\n",
      "    compactness (standard error):         0.002  0.135\n",
      "    concavity (standard error):           0.0    0.396\n",
      "    concave points (standard error):      0.0    0.053\n",
      "    symmetry (standard error):            0.008  0.079\n",
      "    fractal dimension (standard error):   0.001  0.03\n",
      "    radius (worst):                       7.93   36.04\n",
      "    texture (worst):                      12.02  49.54\n",
      "    perimeter (worst):                    50.41  251.2\n",
      "    area (worst):                         185.2  4254.0\n",
      "    smoothness (worst):                   0.071  0.223\n",
      "    compactness (worst):                  0.027  1.058\n",
      "    concavity (worst):                    0.0    1.252\n",
      "    concave points (worst):               0.0    0.291\n",
      "    symmetry (worst):                     0.156  0.664\n",
      "    fractal dimension (worst):            0.055  0.208\n",
      "    ===================================== ====== ======\n",
      "\n",
      "    :Missing Attribute Values: None\n",
      "\n",
      "    :Class Distribution: 212 - Malignant, 357 - Benign\n",
      "\n",
      "    :Creator:  Dr. William H. Wolberg, W. Nick Street, Olvi L. Mangasarian\n",
      "\n",
      "    :Donor: Nick Street\n",
      "\n",
      "    :Date: November, 1995\n",
      "\n",
      "This is a copy of UCI ML Breast Cancer Wisconsin (Diagnostic) datasets.\n",
      "https://goo.gl/U2Uwz2\n",
      "\n",
      "Features are computed from a digitized image of a fine needle\n",
      "aspirate (FNA) of a breast mass.  They describe\n",
      "characteristics of the cell nuclei present in the image.\n",
      "\n",
      "Separating plane described above was obtained using\n",
      "Multisurface Method-Tree (MSM-T) [K. P. Bennett, \"Decision Tree\n",
      "Construction Via Linear Programming.\" Proceedings of the 4th\n",
      "Midwest Artificial Intelligence and Cognitive Science Society,\n",
      "pp. 97-101, 1992], a classification method which uses linear\n",
      "programming to construct a decision tree.  Relevant features\n",
      "were selected using an exhaustive search in the space of 1-4\n",
      "features and 1-3 separating planes.\n",
      "\n",
      "The actual linear program used to obtain the separating plane\n",
      "in the 3-dimensional space is that described in:\n",
      "[K. P. Bennett and O. L. Mangasarian: \"Robust Linear\n",
      "Programming Discrimination of Two Linearly Inseparable Sets\",\n",
      "Optimization Methods and Software 1, 1992, 23-34].\n",
      "\n",
      "This database is also available through the UW CS ftp server:\n",
      "\n",
      "ftp ftp.cs.wisc.edu\n",
      "cd math-prog/cpo-dataset/machine-learn/WDBC/\n",
      "\n",
      ".. topic:: References\n",
      "\n",
      "   - W.N. Street, W.H. Wolberg and O.L. Mangasarian. Nuclear feature extraction \n",
      "     for breast tumor diagnosis. IS&T/SPIE 1993 International Symposium on \n",
      "     Electronic Imaging: Science and Technology, volume 1905, pages 861-870,\n",
      "     San Jose, CA, 1993.\n",
      "   - O.L. Mangasarian, W.N. Street and W.H. Wolberg. Breast cancer diagnosis and \n",
      "     prognosis via linear programming. Operations Research, 43(4), pages 570-577, \n",
      "     July-August 1995.\n",
      "   - W.H. Wolberg, W.N. Street, and O.L. Mangasarian. Machine learning techniques\n",
      "     to diagnose breast cancer from fine-needle aspirates. Cancer Letters 77 (1994) \n",
      "     163-171.\n"
     ]
    }
   ],
   "source": [
    "print(bc_data['DESCR'])"
   ]
  },
  {
   "cell_type": "code",
   "execution_count": 6,
   "id": "3b5693a2",
   "metadata": {},
   "outputs": [],
   "source": [
    "features = pd.DataFrame(data=bc_data.data, \n",
    "                  columns=bc_data.feature_names)"
   ]
  },
  {
   "cell_type": "code",
   "execution_count": 7,
   "id": "881fec9b",
   "metadata": {},
   "outputs": [],
   "source": [
    "features_std = pd.DataFrame()"
   ]
  },
  {
   "cell_type": "markdown",
   "id": "adab0055",
   "metadata": {},
   "source": [
    "Scale the features to prepare for analysis"
   ]
  },
  {
   "cell_type": "code",
   "execution_count": 8,
   "id": "330fa893",
   "metadata": {},
   "outputs": [],
   "source": [
    "from sklearn.preprocessing import StandardScaler"
   ]
  },
  {
   "cell_type": "code",
   "execution_count": 9,
   "id": "7fd40415",
   "metadata": {},
   "outputs": [],
   "source": [
    "scaler = StandardScaler()"
   ]
  },
  {
   "cell_type": "code",
   "execution_count": 10,
   "id": "6933a49f",
   "metadata": {},
   "outputs": [],
   "source": [
    "features_std = pd.DataFrame(data=scaler.fit_transform(features),\\\n",
    "                            columns=features.columns)"
   ]
  },
  {
   "cell_type": "code",
   "execution_count": 11,
   "id": "b3bf47c1",
   "metadata": {},
   "outputs": [],
   "source": [
    "labels = pd.DataFrame(data=bc_data['target'], columns=['target'])"
   ]
  },
  {
   "cell_type": "code",
   "execution_count": 12,
   "id": "06e903af",
   "metadata": {},
   "outputs": [
    {
     "data": {
      "text/plain": [
       "target\n",
       "1         357\n",
       "0         212\n",
       "dtype: int64"
      ]
     },
     "execution_count": 12,
     "metadata": {},
     "output_type": "execute_result"
    }
   ],
   "source": [
    "labels.value_counts()"
   ]
  },
  {
   "cell_type": "markdown",
   "id": "253a6664",
   "metadata": {},
   "source": [
    "The labels indicate whether the case is malignant (0) or benign (1). "
   ]
  },
  {
   "cell_type": "code",
   "execution_count": 13,
   "id": "d37f7157",
   "metadata": {},
   "outputs": [],
   "source": [
    "old_malignant = features[labels['target'] == 0].index\n",
    "old_benign = features[labels['target'] == 1].index"
   ]
  },
  {
   "cell_type": "code",
   "execution_count": 14,
   "id": "d18455d6",
   "metadata": {},
   "outputs": [
    {
     "data": {
      "text/plain": [
       "Int64Index([ 19,  20,  21,  37,  46,  48,  49,  50,  51,  52,\n",
       "            ...\n",
       "            553, 554, 555, 556, 557, 558, 559, 560, 561, 568],\n",
       "           dtype='int64', length=357)"
      ]
     },
     "execution_count": 14,
     "metadata": {},
     "output_type": "execute_result"
    }
   ],
   "source": [
    "old_benign"
   ]
  },
  {
   "cell_type": "markdown",
   "id": "728d6652",
   "metadata": {},
   "source": [
    "I don't like this labeling scheme so I'm going to flip the labels so benign is 0 and malignant is 1."
   ]
  },
  {
   "cell_type": "code",
   "execution_count": 15,
   "id": "66109454",
   "metadata": {},
   "outputs": [],
   "source": [
    "labels.iloc[old_malignant] = 1\n",
    "labels.iloc[old_benign] = 0"
   ]
  },
  {
   "cell_type": "code",
   "execution_count": 16,
   "id": "214706b3",
   "metadata": {},
   "outputs": [
    {
     "data": {
      "text/plain": [
       "target\n",
       "0         357\n",
       "1         212\n",
       "dtype: int64"
      ]
     },
     "execution_count": 16,
     "metadata": {},
     "output_type": "execute_result"
    }
   ],
   "source": [
    "labels.value_counts()"
   ]
  },
  {
   "cell_type": "code",
   "execution_count": 17,
   "id": "33789494",
   "metadata": {},
   "outputs": [],
   "source": [
    "from sklearn.model_selection import train_test_split"
   ]
  },
  {
   "cell_type": "code",
   "execution_count": 29,
   "id": "416d02bc",
   "metadata": {},
   "outputs": [],
   "source": [
    "x_train, x_test, y_train, y_test = train_test_split(\\\n",
    "                        features_std, labels, test_size=0.25,\\\n",
    "                                         random_state=42)"
   ]
  },
  {
   "cell_type": "markdown",
   "id": "b6a32e0e",
   "metadata": {},
   "source": [
    "## Create artificial test sets with discrimination and calibration problems\n",
    "\n",
    "Rather than randomly splitting the data set, I will split using an artificial criterion to create some difference between the training set patient population and the target set, because this toy dataset is a relatively easy classification problem. I intentionally want a performance drop (still need to define that quantitatively) in the held-out data here, so that I can \"fix\" it using different strategies."
   ]
  },
  {
   "cell_type": "markdown",
   "id": "10db8603",
   "metadata": {},
   "source": [
    "### Fit a L1-regularized logistic regression model to the training data as-is"
   ]
  },
  {
   "cell_type": "code",
   "execution_count": 30,
   "id": "4f6741d8",
   "metadata": {},
   "outputs": [],
   "source": [
    "sagaseed = 12 # seed for optimization"
   ]
  },
  {
   "cell_type": "code",
   "execution_count": 40,
   "id": "5c21f36e",
   "metadata": {},
   "outputs": [],
   "source": [
    "clf = LogisticRegression(penalty='l1', tol=1e-4, C=1, fit_intercept=True,\\\n",
    "                                       random_state=sagaseed, solver='saga', max_iter=int(1e6));"
   ]
  },
  {
   "cell_type": "code",
   "execution_count": 41,
   "id": "3d51aeec",
   "metadata": {},
   "outputs": [],
   "source": [
    "from sklearn.metrics import average_precision_score\n",
    "from sklearn.model_selection import StratifiedKFold"
   ]
  },
  {
   "cell_type": "code",
   "execution_count": 42,
   "id": "04bd693c",
   "metadata": {},
   "outputs": [],
   "source": [
    "param_grid = {'C' : [1e-2,1e-1,1e0,1e1,1e2]}"
   ]
  },
  {
   "cell_type": "code",
   "execution_count": 43,
   "id": "9f42d0ac",
   "metadata": {},
   "outputs": [],
   "source": [
    "skf = StratifiedKFold(n_splits=5,shuffle=True,random_state=sagaseed+1)"
   ]
  },
  {
   "cell_type": "code",
   "execution_count": 46,
   "id": "7866a334",
   "metadata": {},
   "outputs": [],
   "source": [
    "gridsearch = GridSearchCV(clf, param_grid, scoring='average_precision',\\\n",
    "                          cv=skf)"
   ]
  },
  {
   "cell_type": "code",
   "execution_count": 48,
   "id": "28b334e0",
   "metadata": {},
   "outputs": [],
   "source": [
    "gridsearch.fit(x_train, y_train.to_numpy().ravel());"
   ]
  },
  {
   "cell_type": "code",
   "execution_count": 50,
   "id": "a35499fa",
   "metadata": {},
   "outputs": [
    {
     "data": {
      "text/plain": [
       "{'C': 1.0}"
      ]
     },
     "execution_count": 50,
     "metadata": {},
     "output_type": "execute_result"
    }
   ],
   "source": [
    "gridsearch.best_params_"
   ]
  },
  {
   "cell_type": "code",
   "execution_count": 21,
   "id": "49ea37a0",
   "metadata": {},
   "outputs": [],
   "source": [
    "clf.fit(x_train, y_train.to_numpy().ravel()); # the numpy/ravel stuff shuts up a warning"
   ]
  },
  {
   "cell_type": "markdown",
   "id": "8a304cee",
   "metadata": {},
   "source": [
    "### Make a calibration curve for the naive classifier on the train and test data"
   ]
  },
  {
   "cell_type": "code",
   "execution_count": 22,
   "id": "dd8043a0",
   "metadata": {},
   "outputs": [],
   "source": [
    "from sklearn.calibration import calibration_curve"
   ]
  },
  {
   "cell_type": "markdown",
   "id": "761df132",
   "metadata": {},
   "source": [
    "Note: below I'm selecting the probability of being malignant as the event of interest"
   ]
  },
  {
   "cell_type": "code",
   "execution_count": 23,
   "id": "311344b5",
   "metadata": {},
   "outputs": [],
   "source": [
    "y_train_pred = clf.predict_proba(x_train)[:,1]"
   ]
  },
  {
   "cell_type": "code",
   "execution_count": 24,
   "id": "a4672c4e",
   "metadata": {},
   "outputs": [],
   "source": [
    "y_test_pred = clf.predict_proba(x_test)[:,1]"
   ]
  },
  {
   "cell_type": "code",
   "execution_count": 25,
   "id": "0629ba15",
   "metadata": {},
   "outputs": [],
   "source": [
    "xcal_train, ycal_train = calibration_curve(y_train, y_train_pred)"
   ]
  },
  {
   "cell_type": "code",
   "execution_count": 26,
   "id": "62a7a783",
   "metadata": {},
   "outputs": [],
   "source": [
    "xcal_test, ycal_test = calibration_curve(y_test, y_test_pred)"
   ]
  },
  {
   "cell_type": "code",
   "execution_count": 27,
   "id": "037bfc73",
   "metadata": {},
   "outputs": [
    {
     "data": {
      "image/png": "[encoded data removed]",
      "text/plain": [
       "<Figure size 640x480 with 1 Axes>"
      ]
     },
     "metadata": {},
     "output_type": "display_data"
    }
   ],
   "source": [
    "plt.plot(xcal_train, ycal_train,'o-', label='train')\n",
    "plt.plot(xcal_test, ycal_test,'^-', label='test')\n",
    "plt.xlim(0,1)\n",
    "plt.ylim(0,1)\n",
    "plt.plot([0,1],[0,1],'--',color='gray', label='perfect calibration')\n",
    "plt.title('Calibration on original data set')\n",
    "plt.xlabel('Mean predicted probability')\n",
    "plt.legend();"
   ]
  },
  {
   "cell_type": "markdown",
   "id": "38f116a4",
   "metadata": {},
   "source": [
    "It looks like the trained model is somewhat optimistic on the test"
   ]
  }
 ],
 "metadata": {
  "kernelspec": {
   "display_name": "Python 3 (ipykernel)",
   "language": "python",
   "name": "python3"
  },
  "language_info": {
   "codemirror_mode": {
    "name": "ipython",
    "version": 3
   },
   "file_extension": ".py",
   "mimetype": "text/x-python",
   "name": "python",
   "nbconvert_exporter": "python",
   "pygments_lexer": "ipython3",
   "version": "3.9.16"
  }
 },
 "nbformat": 4,
 "nbformat_minor": 5
}
